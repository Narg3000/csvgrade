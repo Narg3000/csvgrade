{
 "cells": [
  {
   "cell_type": "code",
   "execution_count": 11,
   "metadata": {},
   "outputs": [],
   "source": [
    "import pandas as pd\n",
    "import os\n",
    "import webbrowser\n",
    "\n",
    "filepath = \"/home/auttieb/Documents/college/TA/211LSP25/120251-PHYS-211-labs-1.csv\"\n",
    "submitpath = \"/home/auttieb/Documents/college/TA/211LSP25/submissions/lab1/L3E\"\n",
    "\n",
    "pd.options.mode.copy_on_write = True\n",
    "\n",
    "class Grader:\n",
    "    def __init__(self, gradebookPath:str, submitPath:str):\n",
    "\n",
    "        self.gradebookPath = gradebookPath\n",
    "        self.submitPath = submitPath\n",
    "        # Import the gradebook from MyPhysics\n",
    "        self.gradebook  = pd.read_csv(gradebookPath, dtype=str)\n",
    "        self.rubric = self.GenRubric()\n",
    "        self.GenSubmitList()\n",
    "\n",
    "    def GenSubmitList(self):\n",
    "        \"\"\"Sorts submissions by timestamp and netID for easy indexing \n",
    "\n",
    "        Args:\n",
    "            submitpth (str): path tp submissions, should be a dir\n",
    "\n",
    "        Raises:\n",
    "            RuntimeError: path supplied is not a directory\n",
    "\n",
    "        Returns:\n",
    "            dict: {NetID:[ordered list of submissions of form [timestamp, path]]}\n",
    "        \"\"\"\n",
    "        if not os.path.isdir(self.submitPath):\n",
    "            raise RuntimeError(\"Not a directory and/or does not exist\")\n",
    "        submitlist = []\n",
    "        for i in os.listdir(self.submitPath):\n",
    "            if os.path.isdir(os.path.join(self.submitPath,i)): \n",
    "                continue\n",
    "            split = i.split(\"_\")\n",
    "            #print(split)\n",
    "            submitlist.append([split[0],int(split[1].split(\".\")[0]), i])\n",
    "        submitlist = pd.DataFrame(submitlist,columns=[\"NetID\",\"timestamp\",\"path\"])\n",
    "        self.submitList = {netid:submitlist[submitlist[\"NetID\"] == netid][[\"timestamp\", \"path\"]].sort_values(by=\"timestamp\").values.tolist() for netid in submitlist.NetID.unique()}\n",
    "\n",
    "    def GenRubric(self):\n",
    "        crit = self.gradebook[pd.notna(pd.to_numeric(self.gradebook[\"Rubric Section\"], errors=\"coerce\"))]\n",
    "        # Extract the rucric chriteria from the assignment gradebook\n",
    "        return {i : crit[crit[\"Rubric Section\"] == i][[\"Version\", \"Student Section\"]].set_index(\"Version\").to_dict()[\"Student Section\"] for i in crit[\"Rubric Section\"].unique()}\n",
    "\n",
    "    def gradeClass(self):\n",
    "        if input(\"start? \") == \"n\":\n",
    "            print(\"nope\")\n",
    "            return\n",
    "        for netid in self.submitList.keys():\n",
    "            try:\n",
    "                print(f\"NetID: {netid}, Name: {self.gradebook.loc[self.gradebook[\"Student NetID\"] == netid,\"Student First Name\"].values[0]}\")\n",
    "            except:\n",
    "                print(f\"NetID {netid} not in gradebook, skipping...\")\n",
    "                continue\n",
    "            webbrowser.open(os.path.join(self.submitPath,self.submitList[netid][-1][1]))\n",
    "            gradeIn = input(\"Enter Assigned Grade for contract (1/0 pass fail): \") \n",
    "            while True:\n",
    "                if gradeIn == \"1\":\n",
    "                    grade = \"2_1\"\n",
    "                    break\n",
    "                elif gradeIn == \"0\":\n",
    "                    grade = \"1_1\"\n",
    "                    break\n",
    "                elif gradeIn == 'x':\n",
    "                    raise RuntimeError(\"lol fuck you\")\n",
    "                else:\n",
    "                    gradeIn = input(\"Enter Assigned Grade for contract u bitch (1/0 pass fail): \")\n",
    "            comment = input(\"Comments?: \")\n",
    "            self.gradebook.loc[self.gradebook[\"Student NetID\"] == netid,\"Q#1: The contract...\"] = grade\n",
    "            self.gradebook.loc[self.gradebook[\"Student NetID\"] == netid, \"Q#1 Comments\"] = comment\n",
    "\n",
    "    \n",
    "    def exportGrades(self):\n",
    "        self.gradebook.to_csv(str(self.gradebookPath[:-4]+\"mod.csv\"))"
   ]
  },
  {
   "cell_type": "code",
   "execution_count": 12,
   "metadata": {},
   "outputs": [],
   "source": [
    "g = Grader(filepath, submitpath)"
   ]
  },
  {
   "cell_type": "code",
   "execution_count": 13,
   "metadata": {},
   "outputs": [
    {
     "data": {
      "text/plain": [
       "{'1': {'1_1': 'Omitted: ...was not submitted or is missing several of the elements listed above.',\n",
       "  '2_1': 'Good: ...was submitted and addressed the elements listed above.'}}"
      ]
     },
     "execution_count": 13,
     "metadata": {},
     "output_type": "execute_result"
    }
   ],
   "source": [
    "g.rubric\n"
   ]
  },
  {
   "cell_type": "code",
   "execution_count": 25,
   "metadata": {},
   "outputs": [
    {
     "data": {
      "text/plain": [
       "'Aavya'"
      ]
     },
     "execution_count": 25,
     "metadata": {},
     "output_type": "execute_result"
    }
   ],
   "source": [
    "grade = \"2_1\"\n",
    "netid = 'aavyak2'\n",
    "g.gradebook.loc[g.gradebook[\"Student NetID\"] == netid, \"Q#1: The contract...\"] = grade\n",
    "\n",
    "g.gradebook.loc[g.gradebook[\"Student NetID\"] == netid,\"Student First Name\"].values[0]"
   ]
  },
  {
   "cell_type": "code",
   "execution_count": 19,
   "metadata": {},
   "outputs": [
    {
     "data": {
      "text/plain": [
       "{'1': {'Student Section': {'1_1': 'Omitted: ...was not submitted or is missing several of the elements listed above.',\n",
       "   '2_1': 'Good: ...was submitted and addressed the elements listed above.'}}}"
      ]
     },
     "execution_count": 19,
     "metadata": {},
     "output_type": "execute_result"
    }
   ],
   "source": [
    "g.rubric"
   ]
  },
  {
   "cell_type": "code",
   "execution_count": 8,
   "metadata": {},
   "outputs": [],
   "source": [
    "g.exportGrades()"
   ]
  },
  {
   "cell_type": "code",
   "execution_count": null,
   "metadata": {},
   "outputs": [],
   "source": []
  }
 ],
 "metadata": {
  "kernelspec": {
   "display_name": "base",
   "language": "python",
   "name": "python3"
  },
  "language_info": {
   "codemirror_mode": {
    "name": "ipython",
    "version": 3
   },
   "file_extension": ".py",
   "mimetype": "text/x-python",
   "name": "python",
   "nbconvert_exporter": "python",
   "pygments_lexer": "ipython3",
   "version": "3.12.7"
  }
 },
 "nbformat": 4,
 "nbformat_minor": 2
}
